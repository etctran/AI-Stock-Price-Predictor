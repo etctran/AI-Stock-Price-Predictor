{
 "cells": [
  {
   "cell_type": "markdown",
   "metadata": {},
   "source": [
    "# 🤖 AI Stock Price Predictor - Beginner Tutorial\n",
    "\n",
    "Welcome to this beginner-friendly tutorial on **stock price prediction** using **machine learning**!\n",
    "\n",
    "**ATS Keywords:** Machine Learning, Data Science, Stock Prediction, Python Programming, Financial Analysis"
   ]
  },
  {
   "cell_type": "code",
   "execution_count": null,
   "metadata": {},
   "outputs": [],
   "source": [
    "# Import required libraries\n",
    "import pandas as pd\n",
    "import numpy as np\n",
    "import matplotlib.pyplot as plt\n",
    "import yfinance as yf\n",
    "from datetime import datetime, timedelta\n",
    "import warnings\n",
    "warnings.filterwarnings('ignore')\n",
    "\n",
    "print(\"✅ Libraries imported successfully!\")"
   ]
  },
  {
   "cell_type": "code",
   "execution_count": null,
   "metadata": {},
   "outputs": [],
   "source": [
    "# Step 1: Collect Stock Data\n",
    "STOCK_SYMBOL = \"AAPL\"  # Change this to any stock\n",
    "\n",
    "print(f\"📈 Collecting data for {STOCK_SYMBOL}...\")\n",
    "stock = yf.Ticker(STOCK_SYMBOL)\n",
    "data = stock.history(period=\"1y\")\n",
    "\n",
    "print(f\"✅ Collected {len(data)} days of data\")\n",
    "data.head()"
   ]
  },
  {
   "cell_type": "code",
   "execution_count": null,
   "metadata": {},
   "outputs": [],
   "source": [
    "# Step 2: Basic Analysis\n",
    "current_price = data['Close'].iloc[-1]\n",
    "print(f\"Current Price: ${current_price:.2f}\")\n",
    "\n",
    "# Simple chart\n",
    "plt.figure(figsize=(12, 6))\n",
    "plt.plot(data.index, data['Close'], linewidth=2)\n",
    "plt.title(f'{STOCK_SYMBOL} Stock Price')\n",
    "plt.ylabel('Price ($)')\n",
    "plt.grid(True)\n",
    "plt.show()"
   ]
  },
  {
   "cell_type": "code",
   "execution_count": null,
   "metadata": {},
   "outputs": [],
   "source": [
    "# Step 3: Simple Prediction\n",
    "# Calculate moving averages\n",
    "data['MA_5'] = data['Close'].rolling(5).mean()\n",
    "data['MA_20'] = data['Close'].rolling(20).mean()\n",
    "\n",
    "# Simple prediction logic\n",
    "recent_trend = data['Close'].tail(10).mean() - data['Close'].tail(20).mean()\n",
    "prediction = current_price + (recent_trend * 0.1)\n",
    "\n",
    "print(f\"🎯 Simple Prediction:\")\n",
    "print(f\"Current: ${current_price:.2f}\")\n",
    "print(f\"Predicted: ${prediction:.2f}\")\n",
    "print(f\"Change: {((prediction-current_price)/current_price*100):+.2f}%\")"
   ]
  }
 ],
 "metadata": {
  "kernelspec": {
   "display_name": "Python 3",
   "language": "python",
   "name": "python3"
  }
 },
 "nbformat": 4,
 "nbformat_minor": 4
}
